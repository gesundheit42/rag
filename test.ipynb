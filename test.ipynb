{
 "cells": [
  {
   "cell_type": "code",
   "execution_count": 1,
   "metadata": {},
   "outputs": [],
   "source": [
    "from langchain_ollama import ChatOllama\n",
    "\n",
    "llm = ChatOllama(model=\"llama3.1\")"
   ]
  },
  {
   "cell_type": "markdown",
   "metadata": {},
   "source": [
    "Load documents"
   ]
  },
  {
   "cell_type": "code",
   "execution_count": 2,
   "metadata": {},
   "outputs": [],
   "source": [
    "from langchain_community.document_loaders import PyPDFLoader\n",
    "\n",
    "file_path = (\"/opt/cloudadm/llm_rag/978-3-319-63588-0.pdf\")\n",
    "loader = PyPDFLoader(file_path)\n",
    "docs = loader.load()"
   ]
  },
  {
   "cell_type": "markdown",
   "metadata": {},
   "source": [
    "Split"
   ]
  },
  {
   "cell_type": "code",
   "execution_count": 3,
   "metadata": {},
   "outputs": [],
   "source": [
    "from langchain_text_splitters import RecursiveCharacterTextSplitter\n",
    "\n",
    "\n",
    "text_splitter = RecursiveCharacterTextSplitter(chunk_size=1000, chunk_overlap=100)\n",
    "splits = text_splitter.split_documents(docs)"
   ]
  },
  {
   "cell_type": "code",
   "execution_count": 4,
   "metadata": {},
   "outputs": [],
   "source": [
    "from langchain_huggingface import HuggingFaceEmbeddings\n",
    "\n",
    "model_name = \"dunzhang/stella_en_1.5B_v5\"\n",
    "model_kwargs = {'device': 'cuda',\n",
    "                'trust_remote_code': True}\n",
    "encode_kwargs = {'normalize_embeddings': False}\n",
    "embeddings = HuggingFaceEmbeddings(\n",
    "    model_name=model_name,\n",
    "    model_kwargs=model_kwargs,\n",
    "    encode_kwargs=encode_kwargs\n",
    ")"
   ]
  },
  {
   "cell_type": "code",
   "execution_count": 5,
   "metadata": {},
   "outputs": [],
   "source": [
    "import faiss\n",
    "from langchain_community.docstore.in_memory import InMemoryDocstore\n",
    "from langchain_community.vectorstores import FAISS\n",
    "from uuid import uuid4\n",
    "\n",
    "index = faiss.IndexFlatL2(len(embeddings.embed_query(\"hello world\")))\n",
    "\n",
    "vectorstore = FAISS(\n",
    "    embedding_function=embeddings,\n",
    "    index=index,\n",
    "    docstore=InMemoryDocstore(),\n",
    "    index_to_docstore_id={},\n",
    ")\n",
    "\n",
    "uuids = [str(uuid4()) for _ in range(len(docs))]\n",
    "\n",
    "vectorstore.add_documents(documents=docs, ids=uuids)\n",
    "\n",
    "retriever = vectorstore.as_retriever(search_kwargs={\"k\": 2})"
   ]
  },
  {
   "cell_type": "code",
   "execution_count": null,
   "metadata": {},
   "outputs": [],
   "source": [
    "from langchain.prompts import ChatPromptTemplate\n",
    "from langchain_core.output_parsers import StrOutputParser\n",
    "\n",
    "# Decomposition\n",
    "template = \"\"\"You are a helpful assistant that generates multiple sub-questions related to an input question. \\n\n",
    "The goal is to break down the input into a set of sub-problems / sub-questions that can be answers in isolation. \\n\n",
    "Generate multiple search queries related to: {question} \\n\n",
    "Output (3 queries):\"\"\"\n",
    "prompt_decomposition = ChatPromptTemplate.from_template(template)\n",
    "\n",
    "# Chain\n",
    "generate_queries_decomposition = ( prompt_decomposition | llm | StrOutputParser() | (lambda x: x.split(\"\\n\")))\n",
    "# Run\n",
    "question = \"What are the Rules for Propositional Connectives?\"\n",
    "questions = generate_queries_decomposition.invoke({\"question\":question})\n",
    "\n",
    "# Prompt\n",
    "template = \"\"\"Here is the question you need to answer:\n",
    "\n",
    "\\n --- \\n {question} \\n --- \\n\n",
    "\n",
    "Here is any available background question + answer pairs:\n",
    "\n",
    "\\n --- \\n {q_a_pairs} \\n --- \\n\n",
    "\n",
    "Here is additional context relevant to the question: \n",
    "\n",
    "\\n --- \\n {context} \\n --- \\n\n",
    "\n",
    "Use the above context and any background question + answer pairs to answer the question: \\n {question}\n",
    "\"\"\"\n",
    "\n",
    "decomposition_prompt = ChatPromptTemplate.from_template(template)\n",
    "from operator import itemgetter\n",
    "from langchain_core.output_parsers import StrOutputParser\n",
    "\n",
    "def format_qa_pair(question, answer):\n",
    "    \"\"\"Format Q and A pair\"\"\"\n",
    "    \n",
    "    formatted_string = \"\"\n",
    "    formatted_string += f\"Question: {question}\\nAnswer: {answer}\\n\\n\"\n",
    "    return formatted_string.strip()\n",
    "\n",
    "q_a_pairs = \"\"\n",
    "for q in questions:\n",
    "    print('q a pair generation iteration')\n",
    "    rag_chain = (\n",
    "    {\"context\": itemgetter(\"question\") | retriever, \n",
    "     \"question\": itemgetter(\"question\"),\n",
    "     \"q_a_pairs\": itemgetter(\"q_a_pairs\")} \n",
    "    | decomposition_prompt\n",
    "    | llm\n",
    "    | StrOutputParser())\n",
    "\n",
    "    answer = rag_chain.invoke({\"question\":q,\"q_a_pairs\":q_a_pairs})\n",
    "    q_a_pair = format_qa_pair(q,answer)\n",
    "    q_a_pairs = q_a_pairs + \"\\n---\\n\"+  q_a_pair"
   ]
  },
  {
   "cell_type": "code",
   "execution_count": 6,
   "metadata": {},
   "outputs": [
    {
     "ename": "NameError",
     "evalue": "name 'questions' is not defined",
     "output_type": "error",
     "traceback": [
      "\u001b[0;31m---------------------------------------------------------------------------\u001b[0m",
      "\u001b[0;31mNameError\u001b[0m                                 Traceback (most recent call last)",
      "Cell \u001b[0;32mIn[6], line 1\u001b[0m\n\u001b[0;32m----> 1\u001b[0m \u001b[43mquestions\u001b[49m\n",
      "\u001b[0;31mNameError\u001b[0m: name 'questions' is not defined"
     ]
    }
   ],
   "source": [
    "questions"
   ]
  },
  {
   "cell_type": "markdown",
   "metadata": {},
   "source": [
    "Retrieval + Generation"
   ]
  },
  {
   "cell_type": "code",
   "execution_count": 5,
   "metadata": {},
   "outputs": [
    {
     "name": "stderr",
     "output_type": "stream",
     "text": [
      "/opt/cloudadm/llm_rag/.venv/lib/python3.10/site-packages/langsmith/client.py:241: LangSmithMissingAPIKeyWarning: API key must be provided when using hosted LangSmith API\n",
      "  warnings.warn(\n"
     ]
    }
   ],
   "source": [
    "from langchain import hub\n",
    "from langchain_core.runnables import RunnableLambda\n",
    "from langchain_community.vectorstores import Chroma\n",
    "from langchain_core.output_parsers import StrOutputParser\n",
    "from langchain_core.runnables import RunnablePassthrough\n",
    "from langchain_ollama import OllamaEmbeddings\n",
    "import faiss\n",
    "from langchain_community.docstore.in_memory import InMemoryDocstore\n",
    "from langchain_community.vectorstores import FAISS\n",
    "from uuid import uuid4\n",
    "\n",
    "index = faiss.IndexFlatL2(len(embeddings.embed_query(\"hello world\")))\n",
    "\n",
    "vectorstore = FAISS(\n",
    "    embedding_function=embeddings,\n",
    "    index=index,\n",
    "    docstore=InMemoryDocstore(),\n",
    "    index_to_docstore_id={},\n",
    ")\n",
    "\n",
    "uuids = [str(uuid4()) for _ in range(len(docs))]\n",
    "\n",
    "vectorstore.add_documents(documents=docs, ids=uuids)\n",
    "\n",
    "retriever = vectorstore.as_retriever(search_kwargs={\"k\": 2})\n",
    "\n",
    "#### RETRIEVAL and GENERATION ####\n",
    "\n",
    "# Prompt\n",
    "prompt = hub.pull(\"rlm/rag-prompt\")\n",
    "\n",
    "# Post-processing\n",
    "def format_docs(docs):\n",
    "    return \"\\n\\n\".join(doc.page_content for doc in docs)\n",
    "\n",
    "def inspect(state):\n",
    "    \"\"\"Print the state passed between Runnables in a langchain and pass it on\"\"\"\n",
    "    print(state)\n",
    "    return state\n",
    "\n",
    "# Chain\n",
    "rag_chain = (\n",
    "    {\"context\": retriever | format_docs, \"question\": RunnablePassthrough()}\n",
    "    | RunnableLambda(inspect)\n",
    "    | prompt\n",
    "    | RunnableLambda(inspect)\n",
    "    | llm\n",
    "    | StrOutputParser()\n",
    ")\n",
    "\n",
    "# Question"
   ]
  },
  {
   "cell_type": "markdown",
   "metadata": {},
   "source": [
    "Decomposition"
   ]
  },
  {
   "cell_type": "code",
   "execution_count": 6,
   "metadata": {},
   "outputs": [
    {
     "name": "stdout",
     "output_type": "stream",
     "text": [
      "{'context': '6.2 Truth and Proof 181\\nRules for Propositional Connectives\\nProof rule ^L is for handling conjunctions (P ^Q) as one of the assumptions in the\\nantecedent on the left of the sequent turnstile (`). Assuming the conjunction P ^Q\\nis the same as assuming each conjunct P as well as Q separately.\\n^L G ;P;Q `D\\nG ;P ^Q `D\\nRule ^Lexpresses that if a conjunction P ^Q is among the list of available assump-\\ntions in the antecedent, then we might just as well assume both conjuncts ( P and\\nQ, respectively) separately. Assuming a conjunction P ^Q is the same as assuming\\nboth conjuncts P and Q. So, if we set out to prove a sequent of the form in the\\nconclusion (G ;P ^Q `D), then we can justify this sequent by instead proving the\\nsequent in the corresponding premise (G ;P;Q `D), where the only difference is that\\nthe two assumptions P and Q are now assumed separately in the premise rather than\\njointly as a single conjunction, as in the conclusion.\\nIf we keep on using proof rule ^Loften enough, then all conjunctions in the\\nantecedent will ultimately have been split into their smaller pieces. Recall that the\\norder of formulas in a sequent G `D is irrelevant because G and D are sets, so we\\ncan always pretend that the formula to which we want to apply the rule ^Lis last\\nin the antecedent. Rule ^Ltakes care of all conjunctions that appear as top-level\\noperators in antecedents even if its notation seems to indicate it would expectP ^Q\\nat the end of the antecedent. Of course, ^Ldoes not say how to prove A _(B ^C) `\\nC or A _:(B ^C) `C, because here the conjunctionB^C is not a top-level formula\\nin the antecedent but merely occurs somewhere deep inside as a subformula. But\\nthere are other logical operators to worry about as well, whose proof rules will\\ndecompose the formulas and ultimately reveal B ^C at the top-level somewhere in\\nthe sequent.\\nProof rule ^Ris for handling conjunction P ^Q in the succedent by proving P\\nand, in a separate premise, also proving Q:\\n^R G `P;D G `Q;D\\nG `P ^Q;D\\nRule ^R has to prove two premises, because if we are trying to prove a sequent\\nG `P ^Q;D with a conjunction P^Q in its succedent, it would not be enough at all\\nto just prove G `P;Q;D, because the meaning of the succedent is a disjunction, so\\nit would only enable us to conclude the weakerG `P _Q;D. Proving a conjunction\\nin the succedent as in the conclusion of ^R, thus, requires proving both conjuncts.\\nIt needs a proof of G `P;D and a proof of G `Q;D. This is why rule ^R splits the\\nproof into two premises, one for proving G `P;D and one for proving G `Q;D. If\\nboth premises of rule^R are valid then so is its conclusion. To see this, it is easier to\\nﬁrst consider the case where D is empty. A proof of G `P together with a proof of\\nG `Q implies that G `P ^Q is valid, because the conjunction P ^Q follows from\\nthe assumptions G if both P and Q individually follow from G . Rule ^R is justiﬁed\\nby arguing by cases, once for the case where the disjunction corresponding to D is\\nfalse (in which case the argument for G `P ^Q sufﬁces) and once where it is true\\n\\n182 6 Truth & Proof\\n(in which case the conclusion is true withoutP^Q). Overall, proof rule^R captures\\nthat proving a conjunction P ^Q amounts to proving both P and Q separately.\\nProof rule _R is similar to rule ^L but for handling disjunctions in the succe-\\ndent. If we set out to prove the sequent G `P _Q;D in the conclusion with a dis-\\njunction P _Q in the succedent, then we might as well split the disjunction into its\\ntwo disjuncts and prove the premise G `P;Q;D instead, since the succedent has a\\ndisjunctive meaning anyhow, so both sequents mean the same formula.\\nProof rule _L handles a disjunction in the antecedent. When the assumptions\\nlisted in the antecedent of a sequent contain a disjunction P _Q, then there is no\\nway of knowing which of the two disjuncts can be assumed, merely that at least one\\nof them is assumed to be true. Rule _L, thus, splits the proof into cases. The left\\npremise considers the case where the assumption P _Q held because P was true.\\nThe right premise considers the case where assumption P _Q held because Q was\\ntrue. If both premises are valid (because we can ﬁnd a proof for them), then, either\\nway, the conclusion G ;P _Q `D will be valid no matter which of the two cases\\napplies. Overall, rule _L captures that assuming a disjunction P _Q requires two\\nseparate proofs that assume each disjunct instead.\\nProof rule !R handles implications in the succedent by using the implicational\\nmeaning of sequents. The way to understand it is to recall how we would prove\\nan implication in mathematics. In order to prove an implication P !Q, we would\\nassume the left-hand side P (which rule !R pushes into the assumptions listed\\nin the antecedent) and try to prove its right-hand side Q (which !R thus leaves\\nin the succedent). This is how left-hand sides of implications ultimately end up as\\nassumptions in the antecedent. Rule !R, thus, captures that proving an implication\\nP !Q amounts to assuming the left-hand P and proving the right-hand Q.\\nProof rule !L is more involved. It it used to handle assumptions that are im-\\nplications P !Q. When assuming an implication P !Q, we can only assume its\\nright-hand side Q (second premise) after we have shown its respective assumption\\nP on its left-hand side (ﬁrst premise). Another way to understand it is to recall that\\nclassical logic obeys the equivalence (P !Q) \\x11(:P _Q) and then to use the other\\npropositional rules. Rule !L captures that using an assumed implication P !Q\\nallows us to assume its right-hand side Q if we can prove its left-hand side P.\\nProof rule :R proves a negation :P by, instead, assuming P. Again, the easiest\\nway of understanding this rule is for an empty D in which case rule :R expresses\\nthat the way to prove a negation :P in the succedent of the conclusion is to in-\\nstead assume P in the antecedent in the premise and prove a contradiction, which\\nis the formula false that an empty succedent means. When D is not empty, argu-\\ning by cases of whether the disjunction D is true or false will again do the trick.\\nAlternatively, rule:R can be understood using the semantics of sequents from Def-\\ninition 6.1, since a conjunct P on the left-hand side of an implication is semantically\\nequivalent to a disjunct :P on the right-hand side in classical logic. Overall, rule\\n:R captures that to prove a negation :P, it is enough to assume P and prove a\\ncontradiction (or the remaining options D).\\nProof rule :L handles a negation :P among the assumptions in the antecedent\\nof the conclusion by, instead, pushing P into the succedent of the premise. Indeed,', 'question': 'What are the Rules for Propositional Connectives?'}\n",
      "messages=[HumanMessage(content=\"You are an assistant for question-answering tasks. Use the following pieces of retrieved context to answer the question. If you don't know the answer, just say that you don't know. Use three sentences maximum and keep the answer concise.\\nQuestion: What are the Rules for Propositional Connectives? \\nContext: 6.2 Truth and Proof 181\\nRules for Propositional Connectives\\nProof rule ^L is for handling conjunctions (P ^Q) as one of the assumptions in the\\nantecedent on the left of the sequent turnstile (`). Assuming the conjunction P ^Q\\nis the same as assuming each conjunct P as well as Q separately.\\n^L G ;P;Q `D\\nG ;P ^Q `D\\nRule ^Lexpresses that if a conjunction P ^Q is among the list of available assump-\\ntions in the antecedent, then we might just as well assume both conjuncts ( P and\\nQ, respectively) separately. Assuming a conjunction P ^Q is the same as assuming\\nboth conjuncts P and Q. So, if we set out to prove a sequent of the form in the\\nconclusion (G ;P ^Q `D), then we can justify this sequent by instead proving the\\nsequent in the corresponding premise (G ;P;Q `D), where the only difference is that\\nthe two assumptions P and Q are now assumed separately in the premise rather than\\njointly as a single conjunction, as in the conclusion.\\nIf we keep on using proof rule ^Loften enough, then all conjunctions in the\\nantecedent will ultimately have been split into their smaller pieces. Recall that the\\norder of formulas in a sequent G `D is irrelevant because G and D are sets, so we\\ncan always pretend that the formula to which we want to apply the rule ^Lis last\\nin the antecedent. Rule ^Ltakes care of all conjunctions that appear as top-level\\noperators in antecedents even if its notation seems to indicate it would expectP ^Q\\nat the end of the antecedent. Of course, ^Ldoes not say how to prove A _(B ^C) `\\nC or A _:(B ^C) `C, because here the conjunctionB^C is not a top-level formula\\nin the antecedent but merely occurs somewhere deep inside as a subformula. But\\nthere are other logical operators to worry about as well, whose proof rules will\\ndecompose the formulas and ultimately reveal B ^C at the top-level somewhere in\\nthe sequent.\\nProof rule ^Ris for handling conjunction P ^Q in the succedent by proving P\\nand, in a separate premise, also proving Q:\\n^R G `P;D G `Q;D\\nG `P ^Q;D\\nRule ^R has to prove two premises, because if we are trying to prove a sequent\\nG `P ^Q;D with a conjunction P^Q in its succedent, it would not be enough at all\\nto just prove G `P;Q;D, because the meaning of the succedent is a disjunction, so\\nit would only enable us to conclude the weakerG `P _Q;D. Proving a conjunction\\nin the succedent as in the conclusion of ^R, thus, requires proving both conjuncts.\\nIt needs a proof of G `P;D and a proof of G `Q;D. This is why rule ^R splits the\\nproof into two premises, one for proving G `P;D and one for proving G `Q;D. If\\nboth premises of rule^R are valid then so is its conclusion. To see this, it is easier to\\nﬁrst consider the case where D is empty. A proof of G `P together with a proof of\\nG `Q implies that G `P ^Q is valid, because the conjunction P ^Q follows from\\nthe assumptions G if both P and Q individually follow from G . Rule ^R is justiﬁed\\nby arguing by cases, once for the case where the disjunction corresponding to D is\\nfalse (in which case the argument for G `P ^Q sufﬁces) and once where it is true\\n\\n182 6 Truth & Proof\\n(in which case the conclusion is true withoutP^Q). Overall, proof rule^R captures\\nthat proving a conjunction P ^Q amounts to proving both P and Q separately.\\nProof rule _R is similar to rule ^L but for handling disjunctions in the succe-\\ndent. If we set out to prove the sequent G `P _Q;D in the conclusion with a dis-\\njunction P _Q in the succedent, then we might as well split the disjunction into its\\ntwo disjuncts and prove the premise G `P;Q;D instead, since the succedent has a\\ndisjunctive meaning anyhow, so both sequents mean the same formula.\\nProof rule _L handles a disjunction in the antecedent. When the assumptions\\nlisted in the antecedent of a sequent contain a disjunction P _Q, then there is no\\nway of knowing which of the two disjuncts can be assumed, merely that at least one\\nof them is assumed to be true. Rule _L, thus, splits the proof into cases. The left\\npremise considers the case where the assumption P _Q held because P was true.\\nThe right premise considers the case where assumption P _Q held because Q was\\ntrue. If both premises are valid (because we can ﬁnd a proof for them), then, either\\nway, the conclusion G ;P _Q `D will be valid no matter which of the two cases\\napplies. Overall, rule _L captures that assuming a disjunction P _Q requires two\\nseparate proofs that assume each disjunct instead.\\nProof rule !R handles implications in the succedent by using the implicational\\nmeaning of sequents. The way to understand it is to recall how we would prove\\nan implication in mathematics. In order to prove an implication P !Q, we would\\nassume the left-hand side P (which rule !R pushes into the assumptions listed\\nin the antecedent) and try to prove its right-hand side Q (which !R thus leaves\\nin the succedent). This is how left-hand sides of implications ultimately end up as\\nassumptions in the antecedent. Rule !R, thus, captures that proving an implication\\nP !Q amounts to assuming the left-hand P and proving the right-hand Q.\\nProof rule !L is more involved. It it used to handle assumptions that are im-\\nplications P !Q. When assuming an implication P !Q, we can only assume its\\nright-hand side Q (second premise) after we have shown its respective assumption\\nP on its left-hand side (ﬁrst premise). Another way to understand it is to recall that\\nclassical logic obeys the equivalence (P !Q) \\x11(:P _Q) and then to use the other\\npropositional rules. Rule !L captures that using an assumed implication P !Q\\nallows us to assume its right-hand side Q if we can prove its left-hand side P.\\nProof rule :R proves a negation :P by, instead, assuming P. Again, the easiest\\nway of understanding this rule is for an empty D in which case rule :R expresses\\nthat the way to prove a negation :P in the succedent of the conclusion is to in-\\nstead assume P in the antecedent in the premise and prove a contradiction, which\\nis the formula false that an empty succedent means. When D is not empty, argu-\\ning by cases of whether the disjunction D is true or false will again do the trick.\\nAlternatively, rule:R can be understood using the semantics of sequents from Def-\\ninition 6.1, since a conjunct P on the left-hand side of an implication is semantically\\nequivalent to a disjunct :P on the right-hand side in classical logic. Overall, rule\\n:R captures that to prove a negation :P, it is enough to assume P and prove a\\ncontradiction (or the remaining options D).\\nProof rule :L handles a negation :P among the assumptions in the antecedent\\nof the conclusion by, instead, pushing P into the succedent of the premise. Indeed, \\nAnswer:\", additional_kwargs={}, response_metadata={})]\n"
     ]
    },
    {
     "data": {
      "text/plain": [
       "'The rules for propositional connectives include ^L, ^R, _L, _R, !R, and !L, which handle conjunctions, disjunctions, and implications in the antecedent or succedent. Each rule captures the meaning of a specific logical operator, such as assuming a conjunction being equivalent to assuming each conjunct separately. The rules provide a systematic way to break down complex formulas into simpler ones, allowing for more efficient proofs.'"
      ]
     },
     "execution_count": 6,
     "metadata": {},
     "output_type": "execute_result"
    }
   ],
   "source": [
    "rag_chain.invoke(\"What are the Rules for Propositional Connectives?\")"
   ]
  }
 ],
 "metadata": {
  "kernelspec": {
   "display_name": ".venv",
   "language": "python",
   "name": "python3"
  },
  "language_info": {
   "codemirror_mode": {
    "name": "ipython",
    "version": 3
   },
   "file_extension": ".py",
   "mimetype": "text/x-python",
   "name": "python",
   "nbconvert_exporter": "python",
   "pygments_lexer": "ipython3",
   "version": "3.10.12"
  }
 },
 "nbformat": 4,
 "nbformat_minor": 2
}
